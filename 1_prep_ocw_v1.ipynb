{
 "cells": [
  {
   "cell_type": "markdown",
   "id": "14fa1974",
   "metadata": {},
   "source": [
    "---"
   ]
  },
  {
   "cell_type": "markdown",
   "id": "ae62c2bd",
   "metadata": {},
   "source": [
    "<p><img src=\"https://upload.wikimedia.org/wikipedia/commons/thumb/5/50/Oracle_logo.svg/2560px-Oracle_logo.svg.png\" width=\"200\" align = \"left\"></p>\n",
    "\n",
    "# **<h1 align =\"middle\"><b> Oracle CloudWorld - Las Vegas</b></h1>**\n",
    "\n",
    "### **<h1 align =\"middle\"><b> Preparation Steps </b></h1>**"
   ]
  },
  {
   "cell_type": "markdown",
   "id": "06fc6c6d",
   "metadata": {},
   "source": [
    "---"
   ]
  },
  {
   "cell_type": "markdown",
   "id": "53d42cac",
   "metadata": {},
   "source": [
    "## **Welcome to the 1st notebook. In this notebook, you will:**\n",
    "- **1. Create a custom Conda environment.** Create a new custom Conda environment and install all needed packages\n",
    "- **2. Publish the custom Conda** environment to an Object Storage Bucket"
   ]
  },
  {
   "cell_type": "markdown",
   "id": "60a243b4",
   "metadata": {},
   "source": [
    "----"
   ]
  },
  {
   "cell_type": "markdown",
   "id": "e1657167",
   "metadata": {},
   "source": [
    "# **| 1. Create a custom Conda environment**"
   ]
  },
  {
   "cell_type": "markdown",
   "id": "7fa09264",
   "metadata": {},
   "source": [
    "#### **Step 1.** Open a terminal. \n",
    "- Click on the **'Launcher'** tab and click on **'Terminal**. You can find 'Launcher' as one of the tabs.\n"
   ]
  },
  {
   "cell_type": "markdown",
   "id": "7b58ede7",
   "metadata": {},
   "source": [
    "#### **Step 2.** \n",
    "- Copy the below cell stating **\"odsc conda create -n ocw_las_vegas\"** in the Terminal and hit enter. \n",
    "- This will create a new Custom Conda environment. This may take a few minutes."
   ]
  },
  {
   "cell_type": "code",
   "execution_count": null,
   "id": "69f6d2b9",
   "metadata": {},
   "outputs": [],
   "source": [
    "odsc conda create -n ocw_las_vegas"
   ]
  },
  {
   "cell_type": "markdown",
   "id": "e4182374",
   "metadata": {},
   "source": [
    "#### **Step 3.** \n",
    "- Wait untill the Conda has been generated. **This may take a few minutes**, wait until the Conda has been created."
   ]
  },
  {
   "cell_type": "markdown",
   "id": "1d814550",
   "metadata": {},
   "source": [
    "#### **Step 4.** \n",
    "- Open the terminal again. \n",
    "- Copy, paste and run (hit enter) the below cell stating **\"conda activate /home/datascience/conda/ocw_las_vegas_v1_0\"**\n",
    "- You now activated the just created Conda environment and can, for example, install PyPI packages in the Conda environment"
   ]
  },
  {
   "cell_type": "code",
   "execution_count": null,
   "id": "779c47b2",
   "metadata": {},
   "outputs": [],
   "source": [
    "conda activate /home/datascience/conda/ocw_las_vegas_v1_0"
   ]
  },
  {
   "cell_type": "markdown",
   "id": "7c5aeb49",
   "metadata": {},
   "source": [
    "#### **Step 5.** \n",
    "- Then, please **copy, paste and run** line for line the below 3 commands. This will install several PyPI packages.\n",
    "- The first line may take a few minutes as it install many dependencies as well.\n",
    "- The second line will uninstall a package, **enter \"Y\" when prompted to uninstall.**"
   ]
  },
  {
   "cell_type": "code",
   "execution_count": null,
   "id": "e2608d0a",
   "metadata": {},
   "outputs": [],
   "source": [
    "pip install oracle-ads pandas pytube ocifs matplotlib deepface sqlalchemy cx-Oracle transformers torch"
   ]
  },
  {
   "cell_type": "code",
   "execution_count": null,
   "id": "309b0aa6",
   "metadata": {},
   "outputs": [],
   "source": [
    "pip uninstall opencv-python"
   ]
  },
  {
   "cell_type": "code",
   "execution_count": null,
   "id": "b8861034",
   "metadata": {},
   "outputs": [],
   "source": [
    "pip install opencv-python-headless"
   ]
  },
  {
   "cell_type": "markdown",
   "id": "6abbf725",
   "metadata": {},
   "source": [
    "---"
   ]
  },
  {
   "cell_type": "markdown",
   "id": "cbf27290",
   "metadata": {},
   "source": [
    "# **| 2. Publish the custom Conda environment**"
   ]
  },
  {
   "cell_type": "markdown",
   "id": "9f2d4b18",
   "metadata": {},
   "source": [
    "#### **Step 6.** \n",
    "- Make sure you selected the **\"ocw_las_vegas_v1_0\"** conda in the Kernel. \n",
    "- Click on the Kernel (top-right) corner. Kernel starts with **\"Python [xxxx]. Select \"ocw_las_vegas_v1_0\".**"
   ]
  },
  {
   "cell_type": "markdown",
   "id": "517c4644",
   "metadata": {},
   "source": [
    "#### **Step 7.** \n",
    "- In the below cell after Step 9, add your Object Storage bucket name and namespace in **[BUCKET_NAME] and [NAMESPACE]**\n"
   ]
  },
  {
   "cell_type": "markdown",
   "id": "1dbb1617",
   "metadata": {},
   "source": [
    "#### **Step 8.** \n",
    "- In the below cell after Step 9, add your custom Conda environment name in **[YOUR_CONDA_NAME].** When following this notebook, use **'ocw_las_vegas_v1_0'**"
   ]
  },
  {
   "cell_type": "markdown",
   "id": "49b56028",
   "metadata": {},
   "source": [
    "#### **Step 9.** \n",
    "- Run the below cells after you changed the bucket name, namespace, and conda environment name. This may take a few minutes to run.\n",
    "- When the below cells are finished running, open the next notebook **\"2_main_ocw_v2.ipynb\"** stored in the \"ocw_las_vegas\" directory.\n",
    "- When opening the second notebook, make sure to **use the 'ocw_las_vegas_v1_0' kernel.**"
   ]
  },
  {
   "cell_type": "code",
   "execution_count": null,
   "id": "e22cf907",
   "metadata": {},
   "outputs": [],
   "source": [
    "#1.st define bucket and namespace where to store your custom conda environment\n",
    "!odsc conda init -b [BUCKET_NAME] -n [NAMESPACE] -a resource_principal"
   ]
  },
  {
   "cell_type": "code",
   "execution_count": null,
   "id": "72fffb8d",
   "metadata": {},
   "outputs": [],
   "source": [
    "#2.nd publish conda env to bucket\n",
    "!odsc conda publish -s [YOUR_CONDA_NAME] --force"
   ]
  },
  {
   "cell_type": "markdown",
   "id": "42d6f853",
   "metadata": {},
   "source": [
    "## **The end**"
   ]
  },
  {
   "cell_type": "code",
   "execution_count": null,
   "id": "710d24d9",
   "metadata": {},
   "outputs": [],
   "source": []
  }
 ],
 "metadata": {
  "kernelspec": {
   "display_name": "Python [conda env:ocw_las_vegas_v1_0]",
   "language": "python",
   "name": "conda-env-ocw_las_vegas_v1_0-py"
  },
  "language_info": {
   "codemirror_mode": {
    "name": "ipython",
    "version": 3
   },
   "file_extension": ".py",
   "mimetype": "text/x-python",
   "name": "python",
   "nbconvert_exporter": "python",
   "pygments_lexer": "ipython3",
   "version": "3.8.17"
  }
 },
 "nbformat": 4,
 "nbformat_minor": 5
}
