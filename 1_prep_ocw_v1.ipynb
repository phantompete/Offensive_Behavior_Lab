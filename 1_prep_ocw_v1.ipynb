{
 "cells": [
  {
   "cell_type": "markdown",
   "id": "b13c56e8",
   "metadata": {},
   "source": [
    "---"
   ]
  },
  {
   "cell_type": "markdown",
   "id": "ae3f7349",
   "metadata": {},
   "source": [
    "<p><img src=\"https://upload.wikimedia.org/wikipedia/commons/thumb/5/50/Oracle_logo.svg/2560px-Oracle_logo.svg.png\" width=\"200\" align = \"left\"></p>\n",
    "\n",
    "# **<h1 align =\"middle\"><b> Oracle CloudWorld - Las Vegas</b></h1>**\n",
    "\n",
    "### **<h1 align =\"middle\"><b> Preparation Steps </b></h1>**"
   ]
  },
  {
   "cell_type": "markdown",
   "id": "5c1eaac1",
   "metadata": {},
   "source": [
    "---"
   ]
  },
  {
   "cell_type": "markdown",
   "id": "4e1db14f",
   "metadata": {},
   "source": [
    "## **To run the main notebook, below changes / activities have to be performed:**\n",
    "- **1. Create Conda env.** Create a new custom Conda environment and install all needed packages\n",
    "- **2. Change and check Pytube.** The change is due to an error and temporary fix.\n",
    "- **3. Publish the Conda** environment to an Object Storage Bucket"
   ]
  },
  {
   "cell_type": "markdown",
   "id": "beb0a299",
   "metadata": {},
   "source": [
    "# **| 1. Create a custom Conda environment**"
   ]
  },
  {
   "cell_type": "markdown",
   "id": "49341b96",
   "metadata": {},
   "source": [
    "#### **Step 1.** Open a terminal. Click on the 'Launcher' tab and click on 'Terminal. You can find 'Launcher' as one of the tabs.\n",
    "#### **Step 2.** Copy the below cell stating \"odsc conda create -n ocw_las_vegas\" in the Terminal and hit enter. This will create a new Custom Conda environment\n",
    "#### **Step 3.** Wait untill the Conda has been generated. This may take a few minutes, wait until the Conda has been created."
   ]
  },
  {
   "cell_type": "code",
   "execution_count": null,
   "id": "91ff10a3",
   "metadata": {},
   "outputs": [],
   "source": [
    "odsc conda create -n ocw_las_vegas"
   ]
  },
  {
   "cell_type": "markdown",
   "id": "7fdf9556",
   "metadata": {},
   "source": [
    "#### **Step 4.** Open the terminal again. Copy, paste and run (hit enter) the below cell stating \"conda activate /home/datascience/conda/ocw_las_vegas_v1_0\":"
   ]
  },
  {
   "cell_type": "code",
   "execution_count": null,
   "id": "11e6876d",
   "metadata": {},
   "outputs": [],
   "source": [
    "conda activate /home/datascience/conda/ocw_las_vegas_v1_0"
   ]
  },
  {
   "cell_type": "markdown",
   "id": "8f1be7aa",
   "metadata": {},
   "source": [
    "#### **Step 5.** Then, please copy, paste and run line for line the below commands The second line will uninstall a package, enter \"Y\" when prompted to uninstall."
   ]
  },
  {
   "cell_type": "code",
   "execution_count": null,
   "id": "7f47aa02",
   "metadata": {},
   "outputs": [],
   "source": [
    "pip install oracle-ads pandas pytube ocifs matplotlib deepface sqlalchemy cx-Oracle transformers torch"
   ]
  },
  {
   "cell_type": "code",
   "execution_count": null,
   "id": "997b01ac",
   "metadata": {},
   "outputs": [],
   "source": [
    "pip uninstall opencv-python"
   ]
  },
  {
   "cell_type": "code",
   "execution_count": null,
   "id": "7a135017",
   "metadata": {},
   "outputs": [],
   "source": [
    "pip install opencv-python-headless"
   ]
  },
  {
   "cell_type": "markdown",
   "id": "3314c85a",
   "metadata": {},
   "source": [
    "---"
   ]
  },
  {
   "cell_type": "markdown",
   "id": "d77d1679",
   "metadata": {},
   "source": [
    "# **| 2. pytube/cipher.py**"
   ]
  },
  {
   "cell_type": "markdown",
   "id": "5ad96000",
   "metadata": {},
   "source": [
    "#### **Step 6.** Make sure you selected the **\"ocw_las_vegas\"** conda in the Kernel. Click on the Kernel (top-right) corner. Kernel starts with \"Python [xxxx]. Select \"ocw_las_vegas_v1_0\".\n",
    "\n",
    "#### **Step 7.** To download YouTube videos in full or only the recording, we are using Pytube. In the latest version, there may be bug in Pytube.\n",
    "\n",
    "> ##### !!!! Please run the below cel. **When an error appears, follow steps 8 - 10. When no error occurs, skip 8 - 10.** !!!"
   ]
  },
  {
   "cell_type": "markdown",
   "id": "3ed57539",
   "metadata": {},
   "source": [
    "> ##### Left to a cell you see the **[  ]** box. **[ * ]** indicates that the cell is running, **[ 2 ]** (any number in order of running cells) indicates the cell has been ran succesfully. 2 is an example, can be any number depending on the order you run the cells."
   ]
  },
  {
   "cell_type": "code",
   "execution_count": null,
   "id": "bb5c2210",
   "metadata": {},
   "outputs": [],
   "source": [
    "from pytube import YouTube\n",
    "import uuid\n",
    "yt = YouTube(\"https://www.youtube.com/shorts/tjYJu8E1m4k\")\n",
    "\n",
    "#store in local folder\n",
    "stream = yt.streams.get_by_itag(22) \n",
    "file_name_random = str(uuid.uuid4())\n",
    "file_location_local_audio = stream.download(output_path=\"./\", filename  = file_name_random + \".mp4\")"
   ]
  },
  {
   "cell_type": "markdown",
   "id": "1902cce5",
   "metadata": {},
   "source": [
    "### **Note. Did an error occur when running the above cell? Follow steps 8 - 10. If not, proceed to step 11**"
   ]
  },
  {
   "cell_type": "markdown",
   "id": "3dc50566",
   "metadata": {},
   "source": [
    "---"
   ]
  },
  {
   "cell_type": "markdown",
   "id": "e124eed7",
   "metadata": {},
   "source": [
    "#### **Step 8.** \n",
    "- #### **Step 8.1** Go to /home/datascience/conda/ocw_las_vegas_v1_0/lib/python.3.8/site-packages/pytube/. Open the 'cipher.py' file\n",
    "- #### **Step 8.2** Search for the \"def_get_transform_object()\" function and change the entire function the the below script.\n",
    "- #### **Step 8.3** Save the file by CRTL-S.\n",
    "\n",
    "Github resolve for issue: https://github.com/pytube/pytube/issues/1728\n"
   ]
  },
  {
   "cell_type": "code",
   "execution_count": null,
   "id": "78e3646c",
   "metadata": {},
   "outputs": [],
   "source": [
    "def get_transform_object(js: str, var: str) -> List[str]:\n",
    "    pattern = r\"var %s={(.*?)};\" % re.escape(var)\n",
    "    logger.debug(\"getting transform object\")\n",
    "    regex = re.compile(pattern, flags=re.DOTALL)\n",
    "    transform_match = regex.search(js)\n",
    "    \n",
    "    if not transform_match:\n",
    "        # i commented out the line raising the error\n",
    "        # raise RegexMatchError(caller=\"get_transform_object\", pattern=pattern)\n",
    "        return []  # Return an empty list if no match is found\n",
    "\n",
    "    return transform_match.group(1).replace(\"\\n\", \" \").split(\", \")"
   ]
  },
  {
   "cell_type": "markdown",
   "id": "184afe51",
   "metadata": {},
   "source": [
    "#### **Step 9.** \n",
    "- #### **Step 9.1** In the same file \"cipher.py\" file, search for the 'incorrect' and swap with 'correct'. The below two cells are the 'correct' and 'incorrect' version"
   ]
  },
  {
   "cell_type": "code",
   "execution_count": null,
   "id": "c00988c6",
   "metadata": {},
   "outputs": [],
   "source": [
    "#### Incorrect = \n",
    "var_regex = re.compile(r\"^\\w+\\W\")"
   ]
  },
  {
   "cell_type": "code",
   "execution_count": null,
   "id": "27212305",
   "metadata": {},
   "outputs": [],
   "source": [
    "#### Correct = \n",
    "var_regex = re.compile(r\"^\\$*\\w+\\W\")"
   ]
  },
  {
   "cell_type": "markdown",
   "id": "1f6dea03",
   "metadata": {},
   "source": [
    "- #### **Step 9.2** Save the file (CRTL+S)\n",
    "\n",
    "Github resolve for issue: https://stackoverflow.com/questions/70776558/pytube-exceptions-regexmatcherror-init-could-not-find-match-for-w-w"
   ]
  },
  {
   "cell_type": "markdown",
   "id": "cda009d1",
   "metadata": {},
   "source": [
    "#### **Step 10** Re-start the Kernel. Right-click in screen and select 'Restart Kernel' and run Step 7 again. The error should disappear. A video with a random name should appear in your \"ocw_las_vegas\" directory"
   ]
  },
  {
   "cell_type": "markdown",
   "id": "b1ea570e",
   "metadata": {},
   "source": [
    "# **| 3. Publish Conda**"
   ]
  },
  {
   "cell_type": "markdown",
   "id": "581fdee6",
   "metadata": {},
   "source": [
    "#### **Step 11.** Add your Object Storage bucket name and namespace in [BUCKET_NAME] and [NAMESPACE]\n",
    "#### **Step 12.** Add your custom Conda environment name in [YOUR_CONDA_NAME]. In this notebook example: ocw_las_vegas_v1_0\n",
    "#### **Step 13.** Run the below cells after you changed the bucket name, namespace, and conda environment name. This may take a few minutes to run.\n",
    "#### **Step 14.** When the below cells are finished running, open the next notebook **\"2_main_ocw_v2.ipynb\"** stored in the \"ocw_las_vegas\" directory."
   ]
  },
  {
   "cell_type": "code",
   "execution_count": null,
   "id": "a95cd3fa",
   "metadata": {},
   "outputs": [],
   "source": [
    "#1.st define bucket and namespace where to store your custom conda environment\n",
    "!odsc conda init -b [BUCKET_NAME] -n [NAMESPACE] -a resource_principal"
   ]
  },
  {
   "cell_type": "code",
   "execution_count": null,
   "id": "9df7d97f",
   "metadata": {},
   "outputs": [],
   "source": [
    "#2.nd publish conda env to bucket\n",
    "!odsc conda publish -s [YOUR_CONDA_NAME] --force"
   ]
  },
  {
   "cell_type": "markdown",
   "id": "e2343081",
   "metadata": {},
   "source": [
    "## **The end**"
   ]
  },
  {
   "cell_type": "code",
   "execution_count": null,
   "id": "b169e1ab",
   "metadata": {},
   "outputs": [],
   "source": []
  }
 ],
 "metadata": {
  "kernelspec": {
   "display_name": "Python [conda env:ocw_las_vegas_v1_0]",
   "language": "python",
   "name": "conda-env-ocw_las_vegas_v1_0-py"
  },
  "language_info": {
   "codemirror_mode": {
    "name": "ipython",
    "version": 3
   },
   "file_extension": ".py",
   "mimetype": "text/x-python",
   "name": "python",
   "nbconvert_exporter": "python",
   "pygments_lexer": "ipython3",
   "version": "3.8.15"
  }
 },
 "nbformat": 4,
 "nbformat_minor": 5
}
