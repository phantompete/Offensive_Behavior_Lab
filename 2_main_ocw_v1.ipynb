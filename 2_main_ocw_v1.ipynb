{
 "cells": [
  {
   "cell_type": "markdown",
   "id": "50bac814",
   "metadata": {},
   "source": [
    "---"
   ]
  },
  {
   "cell_type": "markdown",
   "id": "6007fc59",
   "metadata": {},
   "source": [
    "<p><img src=\"https://upload.wikimedia.org/wikipedia/commons/thumb/5/50/Oracle_logo.svg/2560px-Oracle_logo.svg.png\" width=\"200\" align = \"left\"></p>\n",
    "\n",
    "# **<h1 align =\"middle\"><b> Oracle CloudWorld - Las Vegas</b></h1>**\n",
    "\n",
    "### **<h1 align =\"middle\"><b> Use case 1. Person Detection in Video</b></h1>**\n",
    "### **<h1 align =\"middle\"><b> Use case 2. Offensive Language Detection in Video</b></h1>**"
   ]
  },
  {
   "cell_type": "markdown",
   "id": "631eeb75",
   "metadata": {},
   "source": [
    "---"
   ]
  },
  {
   "cell_type": "markdown",
   "id": "5abcb304",
   "metadata": {},
   "source": [
    "## **Prerequisites to run notebook**\n",
    "- **Note 1**: Perform all steps in the \"1_prep_ocw_las_vegas_v1.ipynb\" file\n",
    "- **Note 2**: Pull Github Repository, the repo contains:\n",
    "    - Three notebooks:\n",
    "    - A folder named 'job_artifacts', inside the 'job_artifacts' folder:\n",
    "        - main.py\n",
    "        - sub_packages with 5 .py files\n",
    "        - An empty 'wallet' folder\n",
    "- **Note 3**: A Dynamic Group for OCI Data Science has been created and OCI Data Science policies are in order. Documentation on policies and dynamic group can be found [here](https://docs.oracle.com/en-us/iaas/data-science/using/policies.htm)\n",
    "- **Note 4**: A correct config file with private key\n",
    "- **Note 5**: Only use .jpg images as profile images.\n",
    "- **Note 6**: YouTube video language should be in English (only for Video analysis)"
   ]
  },
  {
   "cell_type": "markdown",
   "id": "826c4b63",
   "metadata": {},
   "source": [
    "----"
   ]
  },
  {
   "cell_type": "markdown",
   "id": "6d70d333",
   "metadata": {},
   "source": [
    "# **Steps in notebook**\n",
    "---\n",
    "### !!! Please follow the steps carefully !!!\n",
    "----\n",
    "\n",
    "\n",
    "# **Step 1**\n",
    "\n",
    "### **Config file and Private Key**\n",
    "- 1. Go to Oracle Cloud homepage. Click on the person icon (top-right) and select 'User settings'.\n",
    "- 2. On the left, click on 'API Keys'. Click on 'Add API Key'\n",
    "- 3. Select the 'Generate API Key Pair' option. Download the Private Key.\n",
    "- 4. Click on 'Add Key'. Copy the configuration (starting with [DEFAULT]) into a .txt file and save as 'config'. (without .txt as extension)\n",
    "- 5. In the config file, change the last line to \"key_file=./private_key.pem\". Make sure to rename your private key to \"private_key.pem\".\n",
    "- 6. Upload your 'config' file and your 'private_key.pem' file into the 'job_artifacts' folder\n",
    "----\n",
    "# **Step 2**\n",
    "\n",
    "### **Autonomous Database Wallet**\n",
    "- 1. Go to OCI Homepage, click on 'Oracle Database' in the menu bar and select 'Autonomous Database'\n",
    "- 2. Navigate to the correct compartment and select your autonomous database (on which APEX runs)\n",
    "- 3. Click on the database name to open the overview page of your autonomous database. Click on 'Database Connection'\n",
    "- 4. Click on Download Wallet and enter your password\n",
    "- 5. In the notebook session, upload the entire wallet in the \"job_artifact/wallet\" folder.\n",
    "- 6. Do not change the name of the wallet. Do not unzip the wallet.\n",
    "----\n",
    "\n",
    "# **Step 3**\n",
    "\n",
    "### **Parameters in main.py**\n",
    "- 1. In \"job_artifacts\" folder, you'll see a file \"main.py\".\n",
    "- 2. Open main.py. In the first few lines, ONLY CHANGE:\n",
    "    - password --> This is password of your user in the Autonomous Database. Example: password = \"thisismypassword123\"\n",
    "    - wallet_name --> This is the name of the wallet/database, without the 'Wallet_' and without '.zip'. Example: wallet_name = \"DB202112101358\"  \n",
    "    - compartment_id_input --> This is the Compartment OCID you are working in. Example: compartment_id_input = \"ocid1.compartment.oc1..aaaaaaaae3n6r6hrjipbap2hojicrsvkzatrtlwvsyrjd7wjnw4za3m75q\"\n",
    "- 3. After changing the parameters, save the file (CTRL+S) and close the file.\n",
    "----\n",
    "# **Step 4**\n",
    "\n",
    "### **Log Group OCID**\n",
    "- 1. In the OCI Data Science - Job, we need a Log Group. In this Log Group, individual Logs will be added on the individual Jobs\n",
    "- 2. Create a Log Group by following these [steps](https://docs.oracle.com/en-us/iaas/Content/Logging/Task/create-logging-log-group.htm)\n",
    "- 3. Copy the Log Group OCID and paste in the next cell. This ocid will be used in .with_log_group_id() during the creating of the Job. Example: with_log_group_id(\"ocid1.loggroup.oc1.eu-frankfurt-1.amaaaaaangx44ts2shyv7azqbxf4q\")\n",
    "\n",
    "----\n"
   ]
  },
  {
   "cell_type": "markdown",
   "id": "7e13f37d",
   "metadata": {},
   "source": [
    "##### Run the below cell and enter your Log Group OCID in the below cell. For example: ***ocid1.loggroup.oc1.eu-frankfurt-1.amaaaaaangencdyajxalcuggjaug57r3ugare7olsk44ts2shyv7azqbxf4q***"
   ]
  },
  {
   "cell_type": "code",
   "execution_count": null,
   "id": "88125959",
   "metadata": {},
   "outputs": [],
   "source": [
    "## Run this cell by click on the 'play' button. An empty box appears. Add your Log Group OCID in the empty box and hit enter.\n",
    "log_group_ocid = input()\n",
    "print(\"Your input for Log Group OCID is \" + log_group_ocid)"
   ]
  },
  {
   "cell_type": "markdown",
   "id": "2ac27bb3",
   "metadata": {},
   "source": [
    "# **Step 5**\n",
    "\n",
    "### **Custom Conda**\n",
    "- 1. In the '1_prep_ocw_v1.ipynb' notebook, you created a custom conda environment. That environment is published on Object Storage.\n",
    "- 2. In the top right corner in the notebook session, make sure to select your custom conda environment, like \"Python [YOUR_CUSTOM_CONDA_NAME]]\n",
    "- 3. Get the full location of the custom conda in the bucket. Example: \"oci://[BUCKET_NAME]@[NAMESPACE]/conda_environments/cpu/ocw_las_vegas_v1/1.0/ocw_las_vegas_v1_0\"\n",
    "- 4. Paste the full location, including \"oci://\" in next cell. Example: ***oci://[BUCKET_NAME]@[NAMESPACE]/conda_environments/cpu/ocw_las_vegas_v1/1.0/ocw_las_vegas_v1_v1_0***\n"
   ]
  },
  {
   "cell_type": "code",
   "execution_count": null,
   "id": "f10c26db",
   "metadata": {},
   "outputs": [],
   "source": [
    "# Please run this cell\n",
    "# example of full Custom Conda path = oci://West_BP@frqap2zhtzbe/conda_environments/cpu/ocw_las_vegas/1.0/ocw_las_vegas_v1_0\n",
    "custom_conda_path = input()\n",
    "print(\"Your input for custom conda is \" + custom_conda_path)"
   ]
  },
  {
   "cell_type": "markdown",
   "id": "dcba3036",
   "metadata": {},
   "source": [
    "---"
   ]
  },
  {
   "cell_type": "markdown",
   "id": "b4d39486",
   "metadata": {},
   "source": [
    "# **Step 6**\n",
    "\n",
    "### **Run the notebook below**\n",
    "#### Run each cell below by clicking on the 'Play' button or step into the cell and hit shift+enter\n",
    "- 1. Import libraries\n",
    "- 2. Create an OCI Data Science - Job\n",
    "- 3. Start the OCI Data Science - Job"
   ]
  },
  {
   "cell_type": "markdown",
   "id": "8c709c22",
   "metadata": {},
   "source": [
    "---"
   ]
  },
  {
   "cell_type": "markdown",
   "id": "c3bc0d08",
   "metadata": {},
   "source": [
    "# **| 1. Import libraries**"
   ]
  },
  {
   "cell_type": "code",
   "execution_count": null,
   "id": "c4a3cad7",
   "metadata": {},
   "outputs": [],
   "source": [
    "#imports\n",
    "from ads.common.oci_logging import OCILogGroup, OCILog\n",
    "from ads.jobs import Job, DataScienceJob, PythonRuntime\n",
    "from datetime import datetime, timedelta\n",
    "from ads import set_auth\n",
    "\n",
    "#authentication\n",
    "from ads import set_auth\n",
    "set_auth(auth='resource_principal')"
   ]
  },
  {
   "cell_type": "markdown",
   "id": "03813290",
   "metadata": {},
   "source": [
    "---"
   ]
  },
  {
   "cell_type": "markdown",
   "id": "85768220",
   "metadata": {},
   "source": [
    "# **| 2. Create an OCI Data Science - Job**"
   ]
  },
  {
   "cell_type": "code",
   "execution_count": null,
   "id": "1c1509a6",
   "metadata": {},
   "outputs": [],
   "source": [
    "## the below script creates an OCI Data Science - Job\n",
    "\n",
    "job = (\n",
    "    Job(name=\"ocw_my_first_job\")\n",
    "    .with_infrastructure(\n",
    "        DataScienceJob()\n",
    "        # Configure logging for getting the job run outputs.\n",
    "        .with_log_group_id(log_group_ocid)                                                                                                 ###### Add here your Log Group OCID\n",
    "        .with_shape_name(\"VM.Standard2.8\")                                                                                                 ###### Optional. Change shape to your liking.\n",
    "        #.with_shape_config_details(memory_in_gbs=16, ocpus=5)\n",
    "        .with_block_storage_size(50)\n",
    "    )\n",
    "    .with_runtime(\n",
    "        PythonRuntime()\n",
    "        .with_custom_conda(custom_conda_path)                                                                                               ###### Add here your Custom Conda Location\n",
    "        .with_source(\"/home/datascience/ocw_las_vegas/job_artifacts/\") \n",
    "        .with_entrypoint(\"main.py\")\n",
    "        .with_working_dir(\"job_artifacts\")\n",
    "        .with_python_path(\"sub_packages\")\n",
    "        .with_environment_variable(TYPE_OF_ANALYSIS=\"both\",   \n",
    "                                  YOUTUBE_URL = \"no_url_provided\",\n",
    "                                  MAIN_BUCKET_NAME = 'no_bucket_name', \n",
    "                                  NAMESPACE_NAME = 'no_name_space_name', \n",
    "                                  SCHEMA_NAME = 'no_schema_name'  \n",
    "                                  )         \n",
    "    )\n",
    ")\n",
    "\n",
    "job.create()"
   ]
  },
  {
   "cell_type": "markdown",
   "id": "68d9e169",
   "metadata": {},
   "source": [
    "---"
   ]
  },
  {
   "cell_type": "markdown",
   "id": "6061d7ae",
   "metadata": {},
   "source": [
    "# **| 3. Start the OCI Data Science - Job**"
   ]
  },
  {
   "cell_type": "markdown",
   "id": "fc1c6796",
   "metadata": {},
   "source": [
    "##### Before you start a Job, make sure to add or change the below values.\n",
    "\n",
    "### **Input Features are:**\n",
    "- **TYPE_OF_ANALYSIS** --> Use \"audio_only\", \"video_only\", or \"both\"\n",
    "- **YOUTUBE_URL** --> The full YouTube URL\n",
    "- **MAIN_BUCKET_NAME** --> This is the main bucket used. All sub buckets (based on SCHEMA_NAME) will be added to the main bucket\n",
    "- **NAMESPACE_NAME** --> Namespace of Object Storage\n",
    "- **SCHEMA_NAME** --> This is the user name / schema name of the database. Will also be used to create subbuckets in the main bucket."
   ]
  },
  {
   "cell_type": "markdown",
   "id": "44113b3a",
   "metadata": {},
   "source": [
    "#### Example YouTube videos of Jimmy Carr:\n",
    "- https://www.youtube.com/shorts/BsDFzV-Hpsw\n",
    "- https://www.youtube.com/embed/epU3ipIBSqA?autoplay=1&mute=1    "
   ]
  },
  {
   "cell_type": "markdown",
   "id": "83e3dfe9",
   "metadata": {},
   "source": [
    "---"
   ]
  },
  {
   "cell_type": "markdown",
   "id": "f8527944",
   "metadata": {},
   "source": [
    "## **Enter your inputs here - Add or change your inputs and run the cell:**"
   ]
  },
  {
   "cell_type": "markdown",
   "id": "c01da5e3",
   "metadata": {},
   "source": [
    "Please use 'audio_only' in this Notebook. For 'video_only' or 'both', you need to upload a profile image (.jpg) in the Object Storage Bucket. This has not been done yet."
   ]
  },
  {
   "cell_type": "code",
   "execution_count": null,
   "id": "93dccf23",
   "metadata": {},
   "outputs": [],
   "source": [
    "type_of_analysis = \"audio_only\"\n",
    "youtube_url = \"https://www.youtube.com/shorts/tjYJu8E1m4k\"\n",
    "main_bucket_name = \"West_BP\"\n",
    "namespace_name = \"frqap2zhtzbe\"\n",
    "schema_name = \"ocw\""
   ]
  },
  {
   "cell_type": "markdown",
   "id": "05089c7e",
   "metadata": {},
   "source": [
    "## **Start Job Run**"
   ]
  },
  {
   "cell_type": "code",
   "execution_count": null,
   "id": "56dd2e6a",
   "metadata": {},
   "outputs": [],
   "source": [
    "job_run_env = job.run(\n",
    "    name=\"Job Run - Passing dynamic values\",\n",
    "    env_var={'TYPE_OF_ANALYSIS': type_of_analysis,  \n",
    "                'YOUTUBE_URL': youtube_url, \n",
    "                'MAIN_BUCKET_NAME': main_bucket_name,\n",
    "                'NAMESPACE_NAME': namespace_name,\n",
    "                'SCHEMA_NAME': schema_name}\n",
    ")\n",
    "\n",
    "job_run_watch = job_run_env.watch()"
   ]
  },
  {
   "cell_type": "markdown",
   "id": "d4cc19dc",
   "metadata": {},
   "source": [
    "----"
   ]
  },
  {
   "cell_type": "markdown",
   "id": "0f2fac0d",
   "metadata": {},
   "source": [
    "## **| 4. Query the Autonomous Database to see results**"
   ]
  },
  {
   "cell_type": "markdown",
   "id": "c6e413fc",
   "metadata": {},
   "source": [
    "##### When you would like to see the results in the notebook session, you can query the results here. Add your credentials below and run the cell."
   ]
  },
  {
   "cell_type": "code",
   "execution_count": null,
   "id": "b5b4bbb7",
   "metadata": {},
   "outputs": [],
   "source": [
    "user_name = \"\"                         ## User name of the database, same as schema name. Example \"ocw\"\n",
    "password = \"\"                          ## Password. Example \"password12345\"\n",
    "service_name = \"\"                      ## Service Name, including _high, _medium, or _low. Example: db202112101358_high. Make sure you use lower case letters. Example = \"db202112101358_high\"\n",
    "full_wallet_name = \"\"                  ## Please define your full wallet name, including \"Wallet_\" and including \".zip\". Example: \"Wallet_DB202112101358.zip\""
   ]
  },
  {
   "cell_type": "code",
   "execution_count": null,
   "id": "e50649d1",
   "metadata": {},
   "outputs": [],
   "source": [
    "import pandas as pd\n",
    "import ads\n",
    "\n",
    "creds = {\n",
    "    \"user_name\": user_name,\n",
    "    \"password\":  password,\n",
    "    \"service_name\": service_name,\n",
    "    \"wallet_location\": f\"/home/datascience/ocw_las_vegas/job_artifacts/wallet/{full_wallet_name}\"             ## Different in Job versus in Notebook\n",
    "}\n",
    "\n",
    "\n",
    "# simple read of a SQL query into a dataframe with no bind variables\n",
    "df = pd.DataFrame.ads.read_sql(\"SELECT * FROM ocw_run_results\",connection_parameters=creds)\n",
    "df.head()"
   ]
  },
  {
   "cell_type": "markdown",
   "id": "9871ad44",
   "metadata": {},
   "source": [
    "# **The End**"
   ]
  }
 ],
 "metadata": {
  "kernelspec": {
   "display_name": "Python [conda env:ocw_las_vegas_v1_0]",
   "language": "python",
   "name": "conda-env-ocw_las_vegas_v1_0-py"
  },
  "language_info": {
   "codemirror_mode": {
    "name": "ipython",
    "version": 3
   },
   "file_extension": ".py",
   "mimetype": "text/x-python",
   "name": "python",
   "nbconvert_exporter": "python",
   "pygments_lexer": "ipython3",
   "version": "3.8.15"
  }
 },
 "nbformat": 4,
 "nbformat_minor": 5
}
